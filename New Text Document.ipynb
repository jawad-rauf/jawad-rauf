{
 "cells": [
  {
   "cell_type": "code",
   "execution_count": 3,
   "id": "6a835519",
   "metadata": {},
   "outputs": [
    {
     "name": "stdout",
     "output_type": "stream",
     "text": [
      "50\n",
      "50 48 46 44 42 40 38 36 34 32 30 28 26 24 22 20 18 16 14 12 10 8 6 4 2 "
     ]
    }
   ],
   "source": [
    "x=int(input())\n",
    "for x in range(x,0,-2):\n",
    "    print(x,end=\" \")"
   ]
  },
  {
   "cell_type": "code",
   "execution_count": 9,
   "id": "12d90df0",
   "metadata": {},
   "outputs": [
    {
     "name": "stdout",
     "output_type": "stream",
     "text": [
      "Enter x: 69\n",
      "69 is not prime\n"
     ]
    }
   ],
   "source": [
    "x=int(input(\"Enter x: \"))\n",
    "f=False\n",
    "for i in range(2,x):\n",
    "    if x % i ==0:\n",
    "        f=True\n",
    "if f:\n",
    "    print(x,\"is not prime\")\n",
    "else:\n",
    "    print(x,\"is prime\")\n",
    "        "
   ]
  },
  {
   "cell_type": "code",
   "execution_count": 33,
   "id": "e347a69c",
   "metadata": {},
   "outputs": [
    {
     "name": "stdout",
     "output_type": "stream",
     "text": [
      "Enter x: 1234\n",
      "odd digits: 2\n",
      "even digits: 1\n"
     ]
    }
   ],
   "source": [
    "x=int(input(\"Enter x: \"))\n",
    "i=0\n",
    "j=0\n",
    "while(x>=10):\n",
    "    x=x//10\n",
    "    if x % 2 == 0:\n",
    "         i+=1\n",
    "    else:\n",
    "         j+=1\n",
    "print(\"odd digits:\",j)\n",
    "print(\"even digits:\",i)"
   ]
  },
  {
   "cell_type": "code",
   "execution_count": 2,
   "id": "0c755355",
   "metadata": {},
   "outputs": [
    {
     "name": "stdout",
     "output_type": "stream",
     "text": [
      "111\n",
      "113\n",
      "115\n",
      "117\n",
      "119\n",
      "131\n",
      "133\n",
      "135\n",
      "137\n",
      "139\n",
      "151\n",
      "153\n",
      "155\n",
      "157\n",
      "159\n",
      "171\n",
      "173\n",
      "175\n",
      "177\n",
      "179\n",
      "191\n",
      "193\n",
      "195\n",
      "197\n",
      "199\n",
      "311\n",
      "313\n",
      "315\n",
      "317\n",
      "319\n",
      "331\n",
      "333\n",
      "335\n",
      "337\n",
      "339\n",
      "351\n",
      "353\n",
      "355\n",
      "357\n",
      "359\n",
      "371\n",
      "373\n",
      "375\n",
      "377\n",
      "379\n",
      "391\n",
      "393\n",
      "395\n",
      "397\n",
      "399\n",
      "511\n",
      "513\n",
      "515\n",
      "517\n",
      "519\n",
      "531\n",
      "533\n",
      "535\n",
      "537\n",
      "539\n",
      "551\n",
      "553\n",
      "555\n",
      "557\n",
      "559\n",
      "571\n",
      "573\n",
      "575\n",
      "577\n",
      "579\n",
      "591\n",
      "593\n",
      "595\n",
      "597\n",
      "599\n",
      "711\n",
      "713\n",
      "715\n",
      "717\n",
      "719\n",
      "731\n",
      "733\n",
      "735\n",
      "737\n",
      "739\n",
      "751\n",
      "753\n",
      "755\n",
      "757\n",
      "759\n",
      "771\n",
      "773\n",
      "775\n",
      "777\n",
      "779\n",
      "791\n",
      "793\n",
      "795\n",
      "797\n",
      "799\n",
      "911\n",
      "913\n",
      "915\n",
      "917\n",
      "919\n",
      "931\n",
      "933\n",
      "935\n",
      "937\n",
      "939\n",
      "951\n",
      "953\n",
      "955\n",
      "957\n",
      "959\n",
      "971\n",
      "973\n",
      "975\n",
      "977\n",
      "979\n",
      "991\n",
      "993\n",
      "995\n",
      "997\n",
      "999\n"
     ]
    }
   ],
   "source": [
    "x=111\n",
    "for i in range(x,999+1,2):\n",
    "    flag=True\n",
    "    x=i\n",
    "    while x!=0:\n",
    "        y=x%10\n",
    "        x=x//10\n",
    "        if y%2==0:\n",
    "            flag=False\n",
    "    if flag:\n",
    "        print(i)"
   ]
  },
  {
   "cell_type": "code",
   "execution_count": null,
   "id": "a3cfd230",
   "metadata": {},
   "outputs": [],
   "source": []
  },
  {
   "cell_type": "code",
   "execution_count": null,
   "id": "a4b48801",
   "metadata": {},
   "outputs": [],
   "source": []
  }
 ],
 "metadata": {
  "kernelspec": {
   "display_name": "Python 3",
   "language": "python",
   "name": "python3"
  },
  "language_info": {
   "codemirror_mode": {
    "name": "ipython",
    "version": 3
   },
   "file_extension": ".py",
   "mimetype": "text/x-python",
   "name": "python",
   "nbconvert_exporter": "python",
   "pygments_lexer": "ipython3",
   "version": "3.8.8"
  }
 },
 "nbformat": 4,
 "nbformat_minor": 5
}